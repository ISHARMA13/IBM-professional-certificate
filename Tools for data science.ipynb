{
 "cells": [
  {
   "cell_type": "markdown",
   "id": "8d9468e4-8c26-43c0-b4be-91d66ba0e976",
   "metadata": {},
   "source": [
    "# My Jupyter Notebook on IBM Watson Studio"
   ]
  },
  {
   "cell_type": "markdown",
   "id": "7fff7782-03e1-41f8-bbea-93140f41239e",
   "metadata": {},
   "source": [
    "**ISHIKA SHARMA**\n",
    "\n",
    "Want to work as a Data Scientist"
   ]
  },
  {
   "cell_type": "markdown",
   "id": "a3050613-ad4c-4ccc-82db-e437db73d884",
   "metadata": {},
   "source": [
    "*I am interested in data science because \n",
    "I love seeing insights data can give which is \n",
    "generally not visible to the eye.*"
   ]
  },
  {
   "cell_type": "markdown",
   "id": "fe4500b7-1e25-4606-95f3-e663cc8db3d4",
   "metadata": {},
   "source": [
    "### My code below prints/says Hello to the world"
   ]
  },
  {
   "cell_type": "code",
   "execution_count": 1,
   "id": "66a10503-7851-4a1c-9d72-d965491b0e5f",
   "metadata": {},
   "outputs": [
    {
     "name": "stdout",
     "output_type": "stream",
     "text": [
      "Hello World!\n"
     ]
    }
   ],
   "source": [
    "print(\"Hello World!\")"
   ]
  },
  {
   "cell_type": "markdown",
   "id": "8963ac2d-9176-4a50-9395-63f96361c305",
   "metadata": {},
   "source": [
    "`Colors of`**`rainbow:`**\n",
    "- **V**iolet\n",
    "- **I**ndidgo\n",
    "- **B**lue\n",
    "- **G**reen\n",
    "- **Y**ellow\n",
    "- **O**range\n",
    "- **R**ed\n",
    "\n",
    "<hr>\n",
    "\n",
    "`Numbers:`\n",
    "0. zero\n",
    "1. one\n",
    "2. two\n",
    "3. three\n",
    "4. four\n",
    "5. five\n",
    "6. six\n",
    "7. seven\n",
    "8. eight\n",
    "9. nine\n",
    "\n",
    "<hr>\n",
    "\n",
    "`Table`\n",
    "| head | head | head |\n",
    "|------|------|------|\n",
    "| cell | cell | cell |\n",
    "| cell | cell | cell |\n",
    "| cell | cell | cell |\n",
    "| cell | cell | cell |\n",
    "\n",
    "<hr>\n",
    "\n",
    "`Link to My Github:`\n",
    "\n",
    "<a href='https://github.com/ISHARMA13'>Github</a>\n",
    "\n",
    "<hr>\n",
    "\n",
    "`some python in markdown`\n",
    "```python\n",
    "print(\"Hello world\")\n",
    "a = 1 + 1\n",
    "print(a)\n",
    "```\n",
    "\n",
    "<hr>\n",
    "\n",
    "`a blockquote`\n",
    "> Honesty is the best policy.\n",
    ">> Being patient is also important.\n",
    "\n",
    "<hr>"
   ]
  },
  {
   "cell_type": "code",
   "execution_count": null,
   "id": "c3c2aaac-14ed-413f-a0bf-85738b9130e5",
   "metadata": {},
   "outputs": [],
   "source": []
  }
 ],
 "metadata": {
  "kernelspec": {
   "display_name": "Python",
   "language": "python",
   "name": "conda-env-python-py"
  },
  "language_info": {
   "codemirror_mode": {
    "name": "ipython",
    "version": 3
   },
   "file_extension": ".py",
   "mimetype": "text/x-python",
   "name": "python",
   "nbconvert_exporter": "python",
   "pygments_lexer": "ipython3",
   "version": "3.7.12"
  }
 },
 "nbformat": 4,
 "nbformat_minor": 5
}
